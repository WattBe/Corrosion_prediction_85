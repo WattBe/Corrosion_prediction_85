{
 "cells": [
  {
   "cell_type": "code",
   "execution_count": 79,
   "metadata": {},
   "outputs": [],
   "source": [
    "#Import libraries\n",
    "from dash import Dash, dcc, Output, Input  # pip install dash\n",
    "import dash_bootstrap_components as dbc    # pip install dash-bootstrap-components\n",
    "import plotly.express as px\n",
    "import pandas as pd                        # pip install pandas\n",
    "import panel as pn\n",
    "import matplotlib.pyplot as plt\n",
    "pn.extension(\"tabulator\")\n",
    "import hvplot.pandas #interactive datasets\n",
    "from panel.interact import interact\n",
    "pn.extension()\n",
    "import holoviews as hv\n",
    "from holoviews import opts\n",
    "hv.extension(\"bokeh\")\n",
    "#pn.__version__\n",
    "import sys\n",
    "# adding to the path variables the one folder higher (locally, not changing system variables)\n",
    "sys.path.append(\"..\")"
   ]
  },
  {
   "cell_type": "code",
   "execution_count": 80,
   "metadata": {},
   "outputs": [],
   "source": [
    "# cache data to improve dashboard performance\n",
    "if 'data' not in pn.state.cache.keys():\n",
    "    # incorporate data into app, this Alloy_Mat come from the whole matriz being interpolated and Material added, but then again I should perhaps use Alloy_Null\n",
    "    Alloy_Null= pd.read_csv(\"../data/Alloy_Null.csv\")   \n",
    "    pn.state.cache['data'] = Alloy_Null.copy()\n",
    "else:\n",
    "    Alloy_Null=pn.state.cache[\"data\"]"
   ]
  },
  {
   "cell_type": "code",
   "execution_count": 37,
   "metadata": {},
   "outputs": [
    {
     "data": {
      "text/html": [
       "<div>\n",
       "<style scoped>\n",
       "    .dataframe tbody tr th:only-of-type {\n",
       "        vertical-align: middle;\n",
       "    }\n",
       "\n",
       "    .dataframe tbody tr th {\n",
       "        vertical-align: top;\n",
       "    }\n",
       "\n",
       "    .dataframe thead th {\n",
       "        text-align: right;\n",
       "    }\n",
       "</style>\n",
       "<table border=\"1\" class=\"dataframe\">\n",
       "  <thead>\n",
       "    <tr style=\"text-align: right;\">\n",
       "      <th></th>\n",
       "      <th>Cl</th>\n",
       "      <th>Test_Temp</th>\n",
       "      <th>pH</th>\n",
       "      <th>M_Al</th>\n",
       "      <th>M_Fe</th>\n",
       "      <th>M_HEA</th>\n",
       "      <th>M_NiCrMo</th>\n",
       "      <th>M_Other</th>\n",
       "      <th>Fe</th>\n",
       "      <th>Cr</th>\n",
       "      <th>...</th>\n",
       "      <th>Re</th>\n",
       "      <th>Ce</th>\n",
       "      <th>Ti</th>\n",
       "      <th>Co</th>\n",
       "      <th>B</th>\n",
       "      <th>Mg</th>\n",
       "      <th>Y</th>\n",
       "      <th>Gd</th>\n",
       "      <th>Epit</th>\n",
       "      <th>Material</th>\n",
       "    </tr>\n",
       "  </thead>\n",
       "  <tbody>\n",
       "    <tr>\n",
       "      <th>0</th>\n",
       "      <td>0.01</td>\n",
       "      <td>50.0</td>\n",
       "      <td>7.8</td>\n",
       "      <td>0.0</td>\n",
       "      <td>1.0</td>\n",
       "      <td>0.0</td>\n",
       "      <td>0.0</td>\n",
       "      <td>0.0</td>\n",
       "      <td>69.7</td>\n",
       "      <td>18.0</td>\n",
       "      <td>...</td>\n",
       "      <td>0.0</td>\n",
       "      <td>0.0</td>\n",
       "      <td>0.0</td>\n",
       "      <td>0.0</td>\n",
       "      <td>0.0</td>\n",
       "      <td>0.0</td>\n",
       "      <td>0.0</td>\n",
       "      <td>0.0</td>\n",
       "      <td>287.0</td>\n",
       "      <td>Fe Alloy</td>\n",
       "    </tr>\n",
       "    <tr>\n",
       "      <th>1</th>\n",
       "      <td>0.01</td>\n",
       "      <td>50.0</td>\n",
       "      <td>7.8</td>\n",
       "      <td>0.0</td>\n",
       "      <td>1.0</td>\n",
       "      <td>0.0</td>\n",
       "      <td>0.0</td>\n",
       "      <td>0.0</td>\n",
       "      <td>69.7</td>\n",
       "      <td>18.0</td>\n",
       "      <td>...</td>\n",
       "      <td>0.0</td>\n",
       "      <td>0.0</td>\n",
       "      <td>0.0</td>\n",
       "      <td>0.0</td>\n",
       "      <td>0.0</td>\n",
       "      <td>0.0</td>\n",
       "      <td>0.0</td>\n",
       "      <td>0.0</td>\n",
       "      <td>260.0</td>\n",
       "      <td>Fe Alloy</td>\n",
       "    </tr>\n",
       "    <tr>\n",
       "      <th>2</th>\n",
       "      <td>0.02</td>\n",
       "      <td>50.0</td>\n",
       "      <td>7.8</td>\n",
       "      <td>0.0</td>\n",
       "      <td>1.0</td>\n",
       "      <td>0.0</td>\n",
       "      <td>0.0</td>\n",
       "      <td>0.0</td>\n",
       "      <td>69.7</td>\n",
       "      <td>18.0</td>\n",
       "      <td>...</td>\n",
       "      <td>0.0</td>\n",
       "      <td>0.0</td>\n",
       "      <td>0.0</td>\n",
       "      <td>0.0</td>\n",
       "      <td>0.0</td>\n",
       "      <td>0.0</td>\n",
       "      <td>0.0</td>\n",
       "      <td>0.0</td>\n",
       "      <td>218.0</td>\n",
       "      <td>Fe Alloy</td>\n",
       "    </tr>\n",
       "    <tr>\n",
       "      <th>3</th>\n",
       "      <td>0.09</td>\n",
       "      <td>50.0</td>\n",
       "      <td>7.8</td>\n",
       "      <td>0.0</td>\n",
       "      <td>1.0</td>\n",
       "      <td>0.0</td>\n",
       "      <td>0.0</td>\n",
       "      <td>0.0</td>\n",
       "      <td>69.7</td>\n",
       "      <td>18.0</td>\n",
       "      <td>...</td>\n",
       "      <td>0.0</td>\n",
       "      <td>0.0</td>\n",
       "      <td>0.0</td>\n",
       "      <td>0.0</td>\n",
       "      <td>0.0</td>\n",
       "      <td>0.0</td>\n",
       "      <td>0.0</td>\n",
       "      <td>0.0</td>\n",
       "      <td>140.0</td>\n",
       "      <td>Fe Alloy</td>\n",
       "    </tr>\n",
       "    <tr>\n",
       "      <th>4</th>\n",
       "      <td>0.55</td>\n",
       "      <td>50.0</td>\n",
       "      <td>8.2</td>\n",
       "      <td>0.0</td>\n",
       "      <td>1.0</td>\n",
       "      <td>0.0</td>\n",
       "      <td>0.0</td>\n",
       "      <td>0.0</td>\n",
       "      <td>69.7</td>\n",
       "      <td>18.0</td>\n",
       "      <td>...</td>\n",
       "      <td>0.0</td>\n",
       "      <td>0.0</td>\n",
       "      <td>0.0</td>\n",
       "      <td>0.0</td>\n",
       "      <td>0.0</td>\n",
       "      <td>0.0</td>\n",
       "      <td>0.0</td>\n",
       "      <td>0.0</td>\n",
       "      <td>94.0</td>\n",
       "      <td>Fe Alloy</td>\n",
       "    </tr>\n",
       "  </tbody>\n",
       "</table>\n",
       "<p>5 rows × 30 columns</p>\n",
       "</div>"
      ],
      "text/plain": [
       "     Cl  Test_Temp   pH  M_Al  M_Fe  M_HEA  M_NiCrMo  M_Other    Fe    Cr  \\\n",
       "0  0.01       50.0  7.8   0.0   1.0    0.0       0.0      0.0  69.7  18.0   \n",
       "1  0.01       50.0  7.8   0.0   1.0    0.0       0.0      0.0  69.7  18.0   \n",
       "2  0.02       50.0  7.8   0.0   1.0    0.0       0.0      0.0  69.7  18.0   \n",
       "3  0.09       50.0  7.8   0.0   1.0    0.0       0.0      0.0  69.7  18.0   \n",
       "4  0.55       50.0  8.2   0.0   1.0    0.0       0.0      0.0  69.7  18.0   \n",
       "\n",
       "   ...   Re   Ce   Ti   Co    B   Mg    Y   Gd   Epit  Material  \n",
       "0  ...  0.0  0.0  0.0  0.0  0.0  0.0  0.0  0.0  287.0  Fe Alloy  \n",
       "1  ...  0.0  0.0  0.0  0.0  0.0  0.0  0.0  0.0  260.0  Fe Alloy  \n",
       "2  ...  0.0  0.0  0.0  0.0  0.0  0.0  0.0  0.0  218.0  Fe Alloy  \n",
       "3  ...  0.0  0.0  0.0  0.0  0.0  0.0  0.0  0.0  140.0  Fe Alloy  \n",
       "4  ...  0.0  0.0  0.0  0.0  0.0  0.0  0.0  0.0   94.0  Fe Alloy  \n",
       "\n",
       "[5 rows x 30 columns]"
      ]
     },
     "execution_count": 37,
     "metadata": {},
     "output_type": "execute_result"
    }
   ],
   "source": [
    "#Data is already preprocessed, just round\n",
    "Alloy_Null= Alloy_Null.round(2)\n",
    "Alloy_Null.head()"
   ]
  },
  {
   "cell_type": "code",
   "execution_count": 62,
   "metadata": {},
   "outputs": [
    {
     "data": {
      "text/plain": [
       "(27, 30)"
      ]
     },
     "execution_count": 62,
     "metadata": {},
     "output_type": "execute_result"
    }
   ],
   "source": [
    "Alloy_Null[Alloy_Null[\"M_HEA\"]==1].shape"
   ]
  },
  {
   "cell_type": "code",
   "execution_count": 64,
   "metadata": {},
   "outputs": [],
   "source": [
    "#Make DataFrame pipeline Interactive\n",
    "iAlloys=Alloy_Null.interactive()"
   ]
  },
  {
   "cell_type": "code",
   "execution_count": 65,
   "metadata": {},
   "outputs": [],
   "source": [
    "#Define Panel Widgets\n",
    "Cr_slider=pn.widgets.IntSlider(name=\"Cr Slider\", start=0, end=100)"
   ]
  },
  {
   "cell_type": "code",
   "execution_count": 66,
   "metadata": {},
   "outputs": [],
   "source": [
    "#Radio button for Corrosion Measures\n",
    "yaxis_Epit=pn.widgets.RadioButtonGroup(\n",
    "    name=\"Y axis\",\n",
    "    options=[\"Epit\"],\n",
    "    button_type=\"success\"\n",
    ")"
   ]
  },
  {
   "cell_type": "code",
   "execution_count": 67,
   "metadata": {},
   "outputs": [],
   "source": [
    "Materials=['Fe Alloy', 'Other', 'HEA', 'NiCrMo Alloy', 'Al Alloy']"
   ]
  },
  {
   "cell_type": "code",
   "execution_count": 74,
   "metadata": {},
   "outputs": [],
   "source": [
    "Alloy_pipeline=(\n",
    "    iAlloys[\n",
    "        (iAlloys.Cr <= Cr_slider)&\n",
    "        (iAlloys.Material.isin(Materials))\n",
    "    ]\n",
    "    .groupby([\"Material\", \"Cr\"])[yaxis_Epit].mean()\n",
    "    .to_frame()\n",
    "    .reset_index()\n",
    "    .sort_values(by=\"Cr\")\n",
    "    .reset_index(drop=True)\n",
    ")"
   ]
  },
  {
   "cell_type": "code",
   "execution_count": 94,
   "metadata": {},
   "outputs": [
    {
     "data": {
      "application/vnd.jupyter.widget-view+json": {
       "model_id": "6829ea30210e4dea8279aa0bfff95a10",
       "version_major": 2,
       "version_minor": 0
      },
      "text/plain": [
       "BokehModel(combine_events=True, render_bundle={'docs_json': {'9bed91b6-8b6f-4b9b-926f-8a219c2331ab': {'defs': …"
      ]
     },
     "execution_count": 94,
     "metadata": {},
     "output_type": "execute_result"
    }
   ],
   "source": [
    "Alloy_plot= Alloy_pipeline.hvplot(x=\"Cr\", by = \"Material\", y=yaxis_Epit, kind=\"scatter\", size=80, alpha=0.7, height= 500, width =600,\n",
    "                    title = \"Pitting Corrosion Potential by varying Cr for different Material Types\")\n",
    "Alloy_plot"
   ]
  },
  {
   "cell_type": "markdown",
   "metadata": {},
   "source": [
    "### Corrosion Pitting Potential Epit vs Chloride\n",
    "Filter the Data per Material type"
   ]
  },
  {
   "cell_type": "code",
   "execution_count": 95,
   "metadata": {},
   "outputs": [],
   "source": [
    "#Define Panel Widgets\n",
    "Cl_slider=pn.widgets.IntSlider(name=\"Cl_Slider\", start=0, end=10)"
   ]
  },
  {
   "cell_type": "code",
   "execution_count": 97,
   "metadata": {},
   "outputs": [],
   "source": [
    "#Radio button for Corrosion Measures\n",
    "yaxis_E_Cl =pn.widgets.RadioButtonGroup(\n",
    "    name=\"Y Cl_axis\",\n",
    "    options=[\"Epit\"],\n",
    "    button_type=\"success\"\n",
    ")\n",
    "Materials=['Fe Alloy', 'Other', 'HEA', 'NiCrMo Alloy', 'Al Alloy']"
   ]
  },
  {
   "cell_type": "code",
   "execution_count": 98,
   "metadata": {},
   "outputs": [],
   "source": [
    "Epit_vs_Cl_scatterplot_pipeline=(\n",
    "    iAlloys[\n",
    "        (iAlloys.Cl <= Cl_slider) &\n",
    "        (iAlloys.Material.isin(Materials))\n",
    "    ]\n",
    "    .groupby([\"Material\", \"Cl\"])[\"Epit\"].mean()\n",
    "    .to_frame()\n",
    "    .reset_index()\n",
    "    .sort_values(by=\"Epit\")\n",
    "    .reset_index(drop=True)\n",
    ")"
   ]
  },
  {
   "cell_type": "code",
   "execution_count": 99,
   "metadata": {},
   "outputs": [],
   "source": [
    "Epit_vs_Cl_scatterplot= Epit_vs_Cl_scatterplot_pipeline.hvplot(x=\"Cl\", y=\"Epit\", by= \"Material\", size=80, kind=\"scatter\", alpha=0.7, legend=True, height= 600, width =500)"
   ]
  },
  {
   "cell_type": "markdown",
   "metadata": {},
   "source": [
    "### Dashboard Creation"
   ]
  },
  {
   "cell_type": "code",
   "execution_count": 100,
   "metadata": {},
   "outputs": [],
   "source": [
    "#Layout using Template\n",
    "template =pn.template.FastListTemplate(\n",
    "    title= \"Corrosion Prediction Dashboard\",\n",
    "    sidebar =[pn.pane.Markdown(\"# Pitting Corrosion influencers\"),\n",
    "              pn.pane.Markdown(\"#### Pitting Corrosion is a primary driver of corrosion in your operational systems that should be monitored to know the risk so to be able to prevent future problems and mitigate the damage\"),\n",
    "              pn.pane.JPG(\"../images/Corr_simbol.jpg\", sizing_mode=\"scale_both\"),\n",
    "              pn.pane.Markdown(\"## Settings\"),\n",
    "              Cr_slider],\n",
    "    main=[pn.Row(pn.Column(yaxis_Epit, \n",
    "                           Alloy_plot.panel(width=700), margin=(0,25))),\n",
    "          pn.Row(pn.Column(Epit_vs_Cl_scatterplot.panel(width=600), margin=(0,25)))],\n",
    "    accent_base_color=\"#88d8b0\",\n",
    "    header_background=\"#88d8b0\",\n",
    ")"
   ]
  },
  {
   "cell_type": "code",
   "execution_count": 93,
   "metadata": {},
   "outputs": [
    {
     "name": "stdout",
     "output_type": "stream",
     "text": [
      "Launching server at http://localhost:52381\n"
     ]
    }
   ],
   "source": [
    "template.show()\n",
    "template.servable();"
   ]
  },
  {
   "cell_type": "markdown",
   "metadata": {},
   "source": [
    "### Pitting Corrosion Measure by Circular Polarimetry (Electrochemical Potential vs Current density)"
   ]
  },
  {
   "cell_type": "code",
   "execution_count": 50,
   "metadata": {},
   "outputs": [
    {
     "name": "stderr",
     "output_type": "stream",
     "text": [
      "ERROR:tornado.application:Uncaught exception GET / (::1)\n",
      "HTTPServerRequest(protocol='http', host='localhost:60626', method='GET', uri='/', version='HTTP/1.1', remote_ip='::1')\n",
      "Traceback (most recent call last):\n",
      "  File \"/Users/beatrizamandawatts/neufische/Corrosion_85_prediction/.venv/lib/python3.9/site-packages/tornado/web.py\", line 1713, in _execute\n",
      "    result = await result\n",
      "  File \"/Users/beatrizamandawatts/neufische/Corrosion_85_prediction/.venv/lib/python3.9/site-packages/panel/io/server.py\", line 337, in get\n",
      "    session = await self.get_session()\n",
      "  File \"/Users/beatrizamandawatts/neufische/Corrosion_85_prediction/.venv/lib/python3.9/site-packages/bokeh/server/views/session_handler.py\", line 144, in get_session\n",
      "    session = await self.application_context.create_session_if_needed(session_id, self.request, token)\n",
      "  File \"/Users/beatrizamandawatts/neufische/Corrosion_85_prediction/.venv/lib/python3.9/site-packages/bokeh/server/contexts.py\", line 243, in create_session_if_needed\n",
      "    self._application.initialize_document(doc)\n",
      "  File \"/Users/beatrizamandawatts/neufische/Corrosion_85_prediction/.venv/lib/python3.9/site-packages/panel/io/server.py\", line 296, in initialize_document\n",
      "    super().initialize_document(doc)\n",
      "  File \"/Users/beatrizamandawatts/neufische/Corrosion_85_prediction/.venv/lib/python3.9/site-packages/bokeh/application/application.py\", line 194, in initialize_document\n",
      "    h.modify_document(doc)\n",
      "  File \"/Users/beatrizamandawatts/neufische/Corrosion_85_prediction/.venv/lib/python3.9/site-packages/bokeh/application/handlers/function.py\", line 143, in modify_document\n",
      "    self._func(doc)\n",
      "  File \"/Users/beatrizamandawatts/neufische/Corrosion_85_prediction/.venv/lib/python3.9/site-packages/panel/io/server.py\", line 130, in _eval_panel\n",
      "    doc = panel._modify_doc(server_id, title, doc, location)\n",
      "  File \"/Users/beatrizamandawatts/neufische/Corrosion_85_prediction/.venv/lib/python3.9/site-packages/panel/viewable.py\", line 265, in _modify_doc\n",
      "    return self.server_doc(doc, title, location) # type: ignore\n",
      "  File \"/Users/beatrizamandawatts/neufische/Corrosion_85_prediction/.venv/lib/python3.9/site-packages/panel/template/base.py\", line 348, in server_doc\n",
      "    return self._init_doc(doc, title=title, location=location)\n",
      "  File \"/Users/beatrizamandawatts/neufische/Corrosion_85_prediction/.venv/lib/python3.9/site-packages/panel/template/base.py\", line 575, in _init_doc\n",
      "    document = super()._init_doc(doc, comm, title, notebook, location)\n",
      "  File \"/Users/beatrizamandawatts/neufische/Corrosion_85_prediction/.venv/lib/python3.9/site-packages/panel/template/base.py\", line 200, in _init_doc\n",
      "    model = obj.get_root(document, comm, preprocess=False)\n",
      "  File \"/Users/beatrizamandawatts/neufische/Corrosion_85_prediction/.venv/lib/python3.9/site-packages/panel/pane/base.py\", line 314, in get_root\n",
      "    root = self._get_model(doc, comm=comm)\n",
      "  File \"/Users/beatrizamandawatts/neufische/Corrosion_85_prediction/.venv/lib/python3.9/site-packages/panel/pane/markup.py\", line 53, in _get_model\n",
      "    model = self._bokeh_model(**self._get_properties())\n",
      "  File \"/Users/beatrizamandawatts/neufische/Corrosion_85_prediction/.venv/lib/python3.9/site-packages/panel/pane/image.py\", line 152, in _get_properties\n",
      "    width, height = self._imgshape(data)\n",
      "  File \"/Users/beatrizamandawatts/neufische/Corrosion_85_prediction/.venv/lib/python3.9/site-packages/panel/pane/image.py\", line 305, in _imgshape\n",
      "    return int(w), int(h)\n",
      "UnboundLocalError: local variable 'w' referenced before assignment\n",
      "ERROR:tornado.access:500 GET / (::1) 170.85ms\n"
     ]
    },
    {
     "data": {
      "application/vnd.jupyter.widget-view+json": {
       "model_id": "1707dfa268dc46a39a96188f6b6117a8",
       "version_major": 2,
       "version_minor": 0
      },
      "text/plain": [
       "BokehModel(combine_events=True, render_bundle={'docs_json': {'24a4d1fd-93b0-4e88-8faf-387959dfed8a': {'defs': …"
      ]
     },
     "execution_count": 50,
     "metadata": {},
     "output_type": "execute_result"
    }
   ],
   "source": [
    "# incorporate data into app\n",
    "Pitt= pd.read_csv(\"../data/pitting.csv\")\n",
    "#Make DataFrame pipeline Interactive\n",
    "iPitt= Pitt.interactive()\n",
    "#Define Panel Widgets\n",
    "Potential_slider=pn.widgets.IntSlider(name=\"E Potential Slider\", start=-1000, end=-400)\n",
    "#Radio button for pitting corrosion measures\n",
    "#Creating a new y\n",
    "yaxis_pitting=pn.widgets.RadioButtonGroup(\n",
    "    name=\"Y axis_p\",\n",
    "    options=[\"Potential\"],\n",
    "    button_type=\"success\"\n",
    ")\n",
    "\n",
    "Materials=['Fe Alloy', 'Other', 'HEA', 'NiCrMo Alloy', 'Al Alloy']\n",
    "Pitting_pipeline=(\n",
    "    iPitt[\n",
    "        (iPitt.Potential <= Potential_slider)\n",
    "    ]\n",
    "    .groupby([\"Current_density\"])[yaxis_pitting].mean()\n",
    "    .to_frame()\n",
    "    .reset_index()\n",
    "    .reset_index(drop=True)\n",
    ")\n",
    "Pitting_plot= Pitting_pipeline.hvplot(x=\"Potential\", y=\"Current_density\", kind=\"scatter\", size=80, alpha=0.7, height= 500, width =500,\n",
    "                    title = \"Pitting Corrosion Potential by varying Cr for different Material Types\")\n",
    "Pitting_plot"
   ]
  },
  {
   "cell_type": "markdown",
   "metadata": {},
   "source": [
    "### Epit by Material Type using different technique\n",
    "\n",
    "Using iAlloys data"
   ]
  },
  {
   "cell_type": "code",
   "execution_count": 51,
   "metadata": {},
   "outputs": [
    {
     "ename": "SyntaxError",
     "evalue": "unexpected EOF while parsing (2204019001.py, line 33)",
     "output_type": "error",
     "traceback": [
      "\u001b[0;36m  Cell \u001b[0;32mIn [51], line 33\u001b[0;36m\u001b[0m\n\u001b[0;31m    create_boxplot)'''\u001b[0m\n\u001b[0m                      \n^\u001b[0m\n\u001b[0;31mSyntaxError\u001b[0m\u001b[0;31m:\u001b[0m unexpected EOF while parsing\n"
     ]
    }
   ],
   "source": [
    "Alloys=Alloy_Null\n",
    "Features=['Material', 'Cl', 'Test_Temp', 'pH', 'Fe', 'Cr', 'V', 'Ni', 'Mo', 'W', 'Nb',\n",
    "          'Al',  'Ti', 'Co', 'B', 'Mg', 'Y', 'Gd', 'Epit']\n",
    "\n",
    "Alloys_x= pn.widgets.Select(name=\"x\", options= Features, value=\"Epit\" )\n",
    "Alloys_y= pn.widgets.Select(name=\"y\", options= Features)\n",
    "\n",
    "dashboard_fit_line_checkbox=pn.widgets.Checkbox(name=\"fit Line\")\n",
    "Alloys_data= pn.widgets.Select(name=\"Features\", options=Features)\n",
    "\n",
    "#Create functions using depends decorator\n",
    "@pn.depends(Alloys_x, Alloys_y, dashboard_fit_line_checkbox)\n",
    "def create_scater_plots(x, y, checkbox):\n",
    "    Alloys_scatter= Alloys.hvplot.scatter(x, y).opts(width=450)\n",
    "    if checkbox == True:\n",
    "        return Alloys_scatter * hv.Slope.from_scatter(Alloys_scatter)\n",
    "    else:\n",
    "        return Alloys_scatter\n",
    "###@pn.depends(Alloys_data)\n",
    "#def create_boxplot(Features):\n",
    "  ##return Alloys.hvplot.box(y=Features).opts(width=450)\n",
    "\n",
    "\n",
    "#layout\n",
    "pn.Row(\n",
    "    pn.Column(\"## Factors that influence Corrosion Pitting\",\n",
    "              pn.Column(Alloys_x, Alloys_y, dashboard_fit_line_checkbox),\n",
    "              create_scater_plots),\n",
    "   ''' pn.Spacer(width=50),\n",
    "    pn.Column(\"## Boxplot\",\n",
    "    \"## Min, 23%, Median, 75%, Max, Outliers\",\n",
    "    Alloys_data,\n",
    "    create_boxplot)'''"
   ]
  },
  {
   "cell_type": "markdown",
   "metadata": {},
   "source": []
  }
 ],
 "metadata": {
  "kernelspec": {
   "display_name": "Python 3.9.8 ('.venv': venv)",
   "language": "python",
   "name": "python3"
  },
  "language_info": {
   "codemirror_mode": {
    "name": "ipython",
    "version": 3
   },
   "file_extension": ".py",
   "mimetype": "text/x-python",
   "name": "python",
   "nbconvert_exporter": "python",
   "pygments_lexer": "ipython3",
   "version": "3.9.8"
  },
  "orig_nbformat": 4,
  "vscode": {
   "interpreter": {
    "hash": "8aa32b01ff488e379869d54485fe571cd62e468924d402deb61413cca0bc17cb"
   }
  }
 },
 "nbformat": 4,
 "nbformat_minor": 2
}
